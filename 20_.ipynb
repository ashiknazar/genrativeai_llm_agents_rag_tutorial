{
 "cells": [
  {
   "cell_type": "markdown",
   "id": "bf4d3bfd",
   "metadata": {},
   "source": [
    "#### Denoising autoencoder\n"
   ]
  },
  {
   "cell_type": "markdown",
   "id": "f65bccb0",
   "metadata": {},
   "source": [
    "- ✅ Yes, all autoencoders can potentially denoise data\n",
    "- but the reason we have a specific term like \"Denoising Autoencoder\" (DAE) comes down to how they're trained."
   ]
  },
  {
   "cell_type": "markdown",
   "id": "a9965d43",
   "metadata": {},
   "source": [
    "### 🔍 So What Makes a Denoising Autoencoder Different?"
   ]
  },
  {
   "cell_type": "markdown",
   "id": "6a2322d6",
   "metadata": {},
   "source": [
    "- Regular (vanilla) autoencoder:\n",
    "  - Input = Output\n",
    "  - It learns to reconstruct clean input data.\n",
    "  - It works best on clean, structured inputs.\n",
    "-  Denoising autoencoder:\n",
    "   - **Input =** noisy version of data\n",
    "   - Target/Output = clean version of data\n",
    "   - It's explicitly trained to remove noise.\n",
    "\n"
   ]
  },
  {
   "cell_type": "markdown",
   "id": "ac7a1813",
   "metadata": {},
   "source": []
  }
 ],
 "metadata": {
  "language_info": {
   "name": "python"
  }
 },
 "nbformat": 4,
 "nbformat_minor": 5
}
