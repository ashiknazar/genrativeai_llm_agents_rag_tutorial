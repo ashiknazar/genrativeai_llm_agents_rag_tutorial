{
 "cells": [
  {
   "cell_type": "markdown",
   "id": "e970220e",
   "metadata": {},
   "source": [
    "- DCGAN, CGAN, StyleGAN, CycleGAN"
   ]
  },
  {
   "cell_type": "markdown",
   "id": "9bd6608d",
   "metadata": {},
   "source": [
    "### 🧠 Types of GAN Models\n",
    "\n",
    "Generative Adversarial Networks (GANs) come in many variants, each designed for specific goals or improved training stability:\n",
    "\n",
    "---\n",
    "\n",
    "#### 1. **Vanilla GAN**\n",
    "- Original GAN architecture (Goodfellow et al., 2014)\n",
    "- Uses fully connected layers and binary cross-entropy loss.\n",
    "\n",
    "#### 2. **DCGAN (Deep Convolutional GAN)**\n",
    "- Uses convolutional and transposed convolutional layers.\n",
    "- Produces better image quality than Vanilla GAN.\n",
    "\n",
    "#### 3. **Conditional GAN (cGAN)**\n",
    "- Adds class labels or other conditions to both generator and discriminator.\n",
    "- Enables class-specific generation.\n",
    "\n",
    "#### 4. **WGAN (Wasserstein GAN)**\n",
    "- Uses Wasserstein loss instead of cross-entropy.\n",
    "- Provides more stable training and better gradients.\n",
    "\n",
    "#### 5. **WGAN-GP (with Gradient Penalty)**\n",
    "- Improves WGAN by enforcing the Lipschitz constraint with gradient penalty.\n",
    "- Preferred for stability.\n",
    "\n",
    "#### 6. **CycleGAN**\n",
    "- Enables image-to-image translation **without paired data**.\n",
    "- Example: Translate horses ↔ zebras, summer ↔ winter.\n",
    "\n",
    "#### 7. **Pix2Pix**\n",
    "- Image-to-image translation **with paired datasets**.\n",
    "- Example: Turn sketches into realistic images.\n",
    "\n",
    "#### 8. **StyleGAN / StyleGAN2 / StyleGAN3**\n",
    "- Style-based generator from NVIDIA.\n",
    "- State-of-the-art in realistic face and high-res image synthesis.\n",
    "\n",
    "#### 9. **BigGAN**\n",
    "- Large-scale, class-conditional GAN.\n",
    "- Generates high-quality images on datasets like ImageNet.\n",
    "\n",
    "#### 10. **InfoGAN**\n",
    "- Learns disentangled representations by maximizing mutual information.\n",
    "- Enables control over specific generated features (e.g., digit rotation).\n",
    "\n",
    "#### 11. **SRGAN (Super-Resolution GAN)**\n",
    "- Designed to upscale low-resolution images to high-resolution ones.\n",
    "- Used in photo enhancement and medical imaging.\n",
    "\n",
    "#### 12. **3DGAN**\n",
    "- Generates 3D object representations like voxel models.\n",
    "- Useful in 3D modeling and AR/VR applications.\n",
    "\n",
    "---\n",
    "\n",
    "Each GAN variant targets a unique challenge in generation or stability. Choose one based on your task (e.g., image generation, translation, super-resolution).\n"
   ]
  },
  {
   "cell_type": "markdown",
   "id": "e37215c6",
   "metadata": {},
   "source": []
  }
 ],
 "metadata": {
  "language_info": {
   "name": "python"
  }
 },
 "nbformat": 4,
 "nbformat_minor": 5
}
