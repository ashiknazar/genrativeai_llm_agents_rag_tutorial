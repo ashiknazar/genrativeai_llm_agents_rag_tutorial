{
 "cells": [
  {
   "cell_type": "markdown",
   "id": "8dda8e88",
   "metadata": {},
   "source": [
    "##  Conditional GAN (CGAN) "
   ]
  },
  {
   "cell_type": "markdown",
   "id": "7dee27c0",
   "metadata": {},
   "source": [
    "- A Conditional GAN (CGAN) is an extension of the GAN architecture that allows control over the generated output by conditioning both the generator and discriminator on additional information."
   ]
  },
  {
   "cell_type": "markdown",
   "id": "8ec87d2b",
   "metadata": {},
   "source": [
    "- Instead of generating images from pure noise, the generator also takes a label or condition (e.g., digit class 0–9, or “cat”, “dog”) as input.\n",
    "- The discriminator also receives this label and uses it to help determine whether an image is real or fake under that condition"
   ]
  },
  {
   "cell_type": "markdown",
   "id": "54203171",
   "metadata": {},
   "source": [
    "- CGANs allow for **directed generation**"
   ]
  },
  {
   "cell_type": "code",
   "execution_count": null,
   "id": "e95ff699",
   "metadata": {},
   "outputs": [],
   "source": []
  }
 ],
 "metadata": {
  "language_info": {
   "name": "python"
  }
 },
 "nbformat": 4,
 "nbformat_minor": 5
}
