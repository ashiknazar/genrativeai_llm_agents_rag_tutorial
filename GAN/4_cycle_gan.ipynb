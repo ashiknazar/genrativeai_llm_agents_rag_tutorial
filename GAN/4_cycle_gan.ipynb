{
 "cells": [
  {
   "cell_type": "markdown",
   "id": "8d6a5d0a",
   "metadata": {},
   "source": [
    "- A CycleGAN (Cycle-Consistent Generative Adversarial Network) is a type of GAN architecture used for image-to-image translation without paired examples — that is, translating images from one domain (say, horses) to another (say, zebras) without having direct horse↔zebra image pairs.\n",
    "\n"
   ]
  },
  {
   "cell_type": "markdown",
   "id": "3f22ace3",
   "metadata": {},
   "source": [
    "## 🔁 High-Level Idea of CycleGAN"
   ]
  },
  {
   "cell_type": "markdown",
   "id": "d4c74c7f",
   "metadata": {},
   "source": [
    "- A CycleGAN trains two generators and two discriminators:"
   ]
  },
  {
   "cell_type": "markdown",
   "id": "964f31c6",
   "metadata": {},
   "source": [
    "- Generator G: Translates images from domain A → B\n",
    "\n",
    "- Generator F: Translates images from domain B → A\n",
    "\n",
    "- Discriminator D<sub>A</sub>: Discriminates between real A and fake A\n",
    "\n",
    "- Discriminator D<sub>B</sub>: Discriminates between real B and fake B"
   ]
  },
  {
   "cell_type": "markdown",
   "id": "600f9d02",
   "metadata": {},
   "source": [
    "If you translate A→B with `G`, and then back with `F`, you should get back the original A."
   ]
  },
  {
   "cell_type": "markdown",
   "id": "1a95bcc9",
   "metadata": {},
   "source": [
    " F(G(A)) ≈ A and G(F(B)) ≈ B"
   ]
  },
  {
   "cell_type": "markdown",
   "id": "d3f4013d",
   "metadata": {},
   "source": []
  }
 ],
 "metadata": {
  "language_info": {
   "name": "python"
  }
 },
 "nbformat": 4,
 "nbformat_minor": 5
}
