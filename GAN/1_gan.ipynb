{
 "cells": [
  {
   "cell_type": "markdown",
   "id": "02ed88f3",
   "metadata": {},
   "source": [
    "## Generator (G)\n",
    "- Takes random noise and tries to generate realistic data (like fake images).\n",
    "- Goal: Fool the Discriminator."
   ]
  },
  {
   "cell_type": "markdown",
   "id": "b99ff06a",
   "metadata": {},
   "source": [
    "## 2. Discriminator (D)\n",
    "- Takes real and fake data and classifies them.\n",
    "- Goal: Correctly tell real from fake."
   ]
  },
  {
   "cell_type": "markdown",
   "id": "df51deec",
   "metadata": {},
   "source": [
    "```python\n",
    "import tensorflow as tf\n",
    "from tensorflow.keras.layers import Dense, LeakyReLU, Flatten, Reshape\n",
    "from tensorflow.keras.models import Sequential\n",
    "from tensorflow.keras.optimizers import Adam\n",
    "import numpy as np\n",
    "import matplotlib.pyplot as plt\n"
   ]
  },
  {
   "cell_type": "markdown",
   "id": "1b6cef29",
   "metadata": {},
   "source": [
    "```python\n",
    "(X_train, _), (_, _) = tf.keras.datasets.mnist.load_data()\n",
    "X_train = (X_train.astype(np.float32) - 127.5) / 127.5  # Normalize to [-1, 1]\n",
    "X_train = X_train.reshape(-1, 784)  # Flatten\n"
   ]
  },
  {
   "cell_type": "markdown",
   "id": "23889a6a",
   "metadata": {},
   "source": [
    "```python\n",
    "\n",
    "def build_generator():\n",
    "    model=Sequential([\n",
    "        Dense(128,input_dim=100),\n",
    "        LeakyReLU(0.2),\n",
    "        Dense(784,activation='tanh'),\n",
    "        Reshape((28,28))\n",
    "    ])\n",
    "    return model\n"
   ]
  },
  {
   "cell_type": "markdown",
   "id": "00730a57",
   "metadata": {},
   "source": [
    "```python\n",
    "def build_discriminator():\n",
    "    model = Sequential([\n",
    "        Flatten(input_shape=(28, 28)),\n",
    "        Dense(128),\n",
    "        LeakyReLU(0.2),\n",
    "        Dense(1, activation='sigmoid')\n",
    "    ])\n",
    "    return model\n"
   ]
  },
  {
   "cell_type": "markdown",
   "id": "6a7b9ecd",
   "metadata": {},
   "source": [
    "```python\n",
    "def build_gan(generator, discriminator):\n",
    "    discriminator.trainable = False\n",
    "    model = Sequential([generator, discriminator])\n",
    "    return model\n"
   ]
  },
  {
   "cell_type": "markdown",
   "id": "22c174b7",
   "metadata": {},
   "source": [
    "```python\n",
    "# Compile models\n",
    "optimizer = Adam(0.0002, 0.5)\n",
    "discriminator = build_discriminator()\n",
    "discriminator.compile(loss='binary_crossentropy', optimizer=optimizer, metrics=['accuracy'])\n",
    "\n",
    "generator = build_generator()\n",
    "gan = build_gan(generator, discriminator)\n",
    "gan.compile(loss='binary_crossentropy', optimizer=optimizer)\n",
    "\n",
    "\n",
    "# Training\n",
    "epochs = 10000\n",
    "batch_size = 64\n",
    "\n",
    "for epoch in range(epochs):\n",
    "    # Train Discriminator\n",
    "    idx = np.random.randint(0, X_train.shape[0], batch_size)\n",
    "    real_imgs = X_train[idx]\n",
    "\n",
    "    noise = np.random.normal(0, 1, (batch_size, 100))\n",
    "    fake_imgs = generator.predict(noise)\n",
    "\n",
    "    d_loss_real = discriminator.train_on_batch(real_imgs, np.ones((batch_size, 1)))\n",
    "    d_loss_fake = discriminator.train_on_batch(fake_imgs, np.zeros((batch_size, 1)))\n",
    "    d_loss = 0.5 * np.add(d_loss_real, d_loss_fake)\n",
    "\n",
    "    # Train Generator\n",
    "    noise = np.random.normal(0, 1, (batch_size, 100))\n",
    "    g_loss = gan.train_on_batch(noise, np.ones((batch_size, 1)))\n",
    "\n",
    "    # Print progress\n",
    "    if epoch % 1000 == 0:\n",
    "        print(f\"{epoch} [D loss: {d_loss[0]:.4f}, acc.: {100*d_loss[1]:.2f}%] [G loss: {g_loss:.4f}]\")\n"
   ]
  },
  {
   "cell_type": "markdown",
   "id": "8cb82034",
   "metadata": {},
   "source": [
    "```python \n",
    "\n",
    "def show_images(generator, n=10):\n",
    "    noise = np.random.normal(0, 1, (n, 100))\n",
    "    gen_imgs = generator.predict(noise)\n",
    "    gen_imgs = 0.5 * gen_imgs + 0.5  # Rescale to [0,1]\n",
    "\n",
    "    plt.figure(figsize=(10, 1))\n",
    "    for i in range(n):\n",
    "        plt.subplot(1, n, i+1)\n",
    "        plt.imshow(gen_imgs[i], cmap='gray')\n",
    "        plt.axis('off')\n",
    "    plt.show()\n",
    "\n",
    "show_images(generator)\n"
   ]
  }
 ],
 "metadata": {
  "language_info": {
   "name": "python"
  }
 },
 "nbformat": 4,
 "nbformat_minor": 5
}
