{
 "cells": [
  {
   "cell_type": "markdown",
   "id": "5c986ae5",
   "metadata": {},
   "source": [
    "- An autoencoder is a type of neural network that learns to compress data and then reconstruct it. It's **unsupervised**, meaning it doesn’t need labeled data."
   ]
  },
  {
   "cell_type": "markdown",
   "id": "3e8bf588",
   "metadata": {},
   "source": [
    "Input → Encoder → Bottleneck (latent space) → Decoder → Output\n"
   ]
  },
  {
   "cell_type": "code",
   "execution_count": null,
   "id": "8cbb5acc",
   "metadata": {},
   "outputs": [],
   "source": [
    "import tensorflow as tf\n",
    "from tensorflow.keras import layers, models\n",
    "import numpy as np\n",
    "from tensorflow.keras.datasets import mnist\n",
    "import matplotlib.pyplot as plt\n",
    "\n",
    "# Load data\n",
    "(x_train, _), (x_test, _) = mnist.load_data()\n",
    "x_train = x_train.astype(\"float32\") / 255.\n",
    "x_test = x_test.astype(\"float32\") / 255.\n",
    "x_train = x_train.reshape((len(x_train), 28*28))\n",
    "x_test = x_test.reshape((len(x_test), 28*28))"
   ]
  },
  {
   "cell_type": "code",
   "execution_count": null,
   "id": "75a3b6a4",
   "metadata": {},
   "outputs": [],
   "source": [
    "# Encoder\n",
    "input_img = tf.keras.Input(shape=(784,))\n",
    "encoded = layers.Dense(64, activation='relu')(input_img)\n",
    "\n",
    "# Decoder\n",
    "decoded = layers.Dense(784, activation='sigmoid')(encoded)\n",
    "\n",
    "# Autoencoder\n",
    "autoencoder = tf.keras.Model(input_img, decoded)\n",
    "\n",
    "# Compile\n",
    "autoencoder.compile(optimizer='adam', loss='binary_crossentropy')\n",
    "autoencoder.fit(x_train, x_train,\n",
    "                epochs=20,\n",
    "                batch_size=256,\n",
    "                shuffle=True,\n",
    "                validation_data=(x_test, x_test))\n",
    "# Predict\n",
    "decoded_imgs = autoencoder.predict(x_test)\n",
    "n = 10\n",
    "plt.figure(figsize=(20, 4))\n",
    "for i in range(n):\n",
    "    # Original\n",
    "    ax = plt.subplot(2, n, i + 1)\n",
    "    plt.imshow(x_test[i].reshape(28, 28), cmap='gray')\n",
    "    plt.axis('off')\n",
    "\n",
    "    # Reconstructed\n",
    "    ax = plt.subplot(2, n, i + 1 + n)\n",
    "    plt.imshow(decoded_imgs[i].reshape(28, 28), cmap='gray')\n",
    "    plt.axis('off')\n",
    "plt.show()\n"
   ]
  },
  {
   "cell_type": "markdown",
   "id": "f35ffa4a",
   "metadata": {},
   "source": [
    "#### 🔷 Use Cases\n",
    "- Noise reduction (denoising autoencoders)\n",
    "- Dimensionality reduction (like PCA)\n",
    "- Anomaly detection (if reconstruction error is high)\n",
    "- Data compression\n",
    "\n"
   ]
  },
  {
   "cell_type": "markdown",
   "id": "e6757f8f",
   "metadata": {},
   "source": [
    "#### 🔷 Key Points to Remember\n",
    "- No labels needed.\n",
    "- Can be used for feature learning.\n",
    "- Vanilla autoencoders are basic; more powerful versions include Convolutional, Variational, and Sparse autoencoders.\n",
    "\n"
   ]
  },
  {
   "cell_type": "markdown",
   "id": "cf746122",
   "metadata": {},
   "source": [
    "### ✅ When to Use a Vanilla Autoencoder"
   ]
  },
  {
   "cell_type": "markdown",
   "id": "5d53fe3d",
   "metadata": {},
   "source": [
    "- Vanilla autoencoders are best suited for simple data, particularly when:\n",
    "  -  The data is tabular or vector-based\n",
    "- ⚠️ Not ideal for: Raw Images\n",
    "  - **Images have spatial structure (like nearby pixels being related), and vanilla autoencoders ignore that structure.**\n",
    "  - Convolutional Autoencoders are usually better.\n"
   ]
  },
  {
   "cell_type": "markdown",
   "id": "235fe3b9",
   "metadata": {},
   "source": []
  }
 ],
 "metadata": {
  "kernelspec": {
   "display_name": "base",
   "language": "python",
   "name": "python3"
  },
  "language_info": {
   "name": "python",
   "version": "3.12.7"
  }
 },
 "nbformat": 4,
 "nbformat_minor": 5
}
