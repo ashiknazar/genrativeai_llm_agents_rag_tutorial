{
 "cells": [
  {
   "cell_type": "code",
   "execution_count": null,
   "id": "abee4292",
   "metadata": {},
   "outputs": [],
   "source": [
    "import numpy as np\n",
    "from tensorflow.keras.models import Model\n",
    "from tensorflow.keras.layers import Input, LSTM, RepeatVector\n",
    "from tensorflow.keras.datasets import imdb\n",
    "from tensorflow.keras.preprocessing.sequence import pad_sequences\n",
    "\n",
    "# Simulated data (e.g., 1000 sequences, each 10 timesteps long, 1 feature per step)\n",
    "X = np.random.rand(1000, 10, 1)\n",
    "\n",
    "# Model\n",
    "timesteps = X.shape[1]\n",
    "input_dim = X.shape[2]\n",
    "\n",
    "input_seq = Input(shape=(timesteps, input_dim))\n",
    "encoded = LSTM(32)(input_seq)\n",
    "decoded = RepeatVector(timesteps)(encoded)\n",
    "decoded = LSTM(input_dim, return_sequences=True)(decoded)\n",
    "\n",
    "autoencoder = Model(input_seq, decoded)\n",
    "autoencoder.compile(optimizer='adam', loss='mse')\n",
    "autoencoder.summary()\n",
    "\n",
    "# Train\n",
    "autoencoder.fit(X, X, epochs=20, batch_size=32, validation_split=0.2)\n"
   ]
  }
 ],
 "metadata": {
  "language_info": {
   "name": "python"
  }
 },
 "nbformat": 4,
 "nbformat_minor": 5
}
