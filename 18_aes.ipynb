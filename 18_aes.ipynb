{
 "cells": [
  {
   "cell_type": "markdown",
   "id": "89e3d9ec",
   "metadata": {},
   "source": [
    "- Vanilla Autoencoder | Basic structure with one hidden layer |\n",
    "- Denoising Autoencoder | Learns to reconstruct clean inputs from noisy ones |\n",
    "- Sparse Autoencoder | Adds a sparsity constraint to encourage feature selection |\n",
    "- Variational Autoencoder (VAE) | Learns a distribution over the latent space(used in GAN) |\n",
    "- Convolutional Autoencoder | Uses CNNs for image data |\n",
    "- Sequence Autoencoder|"
   ]
  },
  {
   "cell_type": "markdown",
   "id": "b71c4230",
   "metadata": {},
   "source": []
  }
 ],
 "metadata": {
  "language_info": {
   "name": "python"
  }
 },
 "nbformat": 4,
 "nbformat_minor": 5
}
