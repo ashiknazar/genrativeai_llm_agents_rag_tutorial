{
  "nbformat": 4,
  "nbformat_minor": 0,
  "metadata": {
    "colab": {
      "provenance": []
    },
    "kernelspec": {
      "name": "python3",
      "display_name": "Python 3"
    },
    "language_info": {
      "name": "python"
    }
  },
  "cells": [
    {
      "cell_type": "markdown",
      "source": [
        "### Standard Autoencoder (AE)\n",
        "- A standard autoencoder is a type of neural network used for unsupervised learning, particularly dimensionality reduction or feature learning.\n",
        "\n",
        "- Encoder: Maps the input\n",
        "$ 𝑧 =𝑓_{encoder}(𝑥)$\n",
        "- Decoder: Reconstructs the input from\n",
        "$ \\hat{𝑥}=𝑓_{decoder}(𝑧)$"
      ],
      "metadata": {
        "id": "jBj8oS6Nz_3M"
      }
    },
    {
      "cell_type": "markdown",
      "source": [
        "### Variational Autoencoder (VAE)\n",
        "- A variational autoencoder is a probabilistic version of an autoencoder that learns a distribution over the latent space.\n"
      ],
      "metadata": {
        "id": "BuIWFv3W1GMS"
      }
    },
    {
      "cell_type": "code",
      "source": [],
      "metadata": {
        "id": "VkXf16742vLm"
      },
      "execution_count": null,
      "outputs": []
    }
  ]
}